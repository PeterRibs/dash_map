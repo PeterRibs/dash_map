{
 "cells": [
  {
   "cell_type": "code",
   "execution_count": 1,
   "id": "8285c1c6",
   "metadata": {},
   "outputs": [
    {
     "name": "stdout",
     "output_type": "stream",
     "text": [
      "  Property Name   Latitude  Longitude  Milk Collection (liters/day)  \\\n",
      "0    Property 1  -4.963987 -46.113140                          4946   \n",
      "1    Property 2  -0.576676 -72.210849                          4505   \n",
      "2    Property 3   2.441943 -52.628769                          2457   \n",
      "3    Property 4  -2.557781 -50.294529                          1508   \n",
      "4    Property 5 -18.372223 -38.001367                          3994   \n",
      "\n",
      "   Area (hectares) Solar Energy  Number of Cows  \n",
      "0       514.410552           No              38  \n",
      "1       160.145887           No              66  \n",
      "2       289.952945          Yes              14  \n",
      "3       280.713756          Yes              14  \n",
      "4       619.314779          Yes              26  \n"
     ]
    }
   ],
   "source": [
    "import pandas as pd\n",
    "import random\n",
    "\n",
    "# Generate random data for 150 rural properties\n",
    "data = {\n",
    "    \"Property Name\": [\"Property \" + str(i) for i in range(1, 151)],\n",
    "    \"Latitude\": [random.uniform(-33.75, 5.25) for _ in range(150)],  # Rough latitude range of Brazil\n",
    "    \"Longitude\": [random.uniform(-73.98, -34.80) for _ in range(150)],  # Rough longitude range of Brazil\n",
    "    \"Milk Collection (liters/day)\": [random.randint(0, 5000) for _ in range(150)],\n",
    "    \"Area (hectares)\": [random.uniform(10, 1000) for _ in range(150)],\n",
    "    \"Solar Energy\": [random.choice([\"Yes\", \"No\"]) for _ in range(150)],\n",
    "    \"Number of Cows\": [random.randint(0, 100) for _ in range(150)],\n",
    "}\n",
    "\n",
    "# Create the DataFrame\n",
    "df = pd.DataFrame(data)\n",
    "\n",
    "# Display the first few rows of the DataFrame\n",
    "print(df.head())"
   ]
  },
  {
   "cell_type": "code",
   "execution_count": 3,
   "id": "e468573f",
   "metadata": {},
   "outputs": [
    {
     "name": "stdout",
     "output_type": "stream",
     "text": [
      "  Property Name   Latitude  Longitude  Area (hectares) Solar Energy  \\\n",
      "0    Property 1   0.396995 -60.923883       820.727921           No   \n",
      "1    Property 2 -21.220798 -39.915111       116.210895          Yes   \n",
      "2    Property 3   2.107302 -48.312263       738.096023          Yes   \n",
      "3    Property 4 -22.221192 -50.702575       684.533420           No   \n",
      "4    Property 5  -0.868541 -42.978988       984.447730           No   \n",
      "\n",
      "   Number of Cows Owner Name Veterinarian  Milk Collection (liters/day)  \n",
      "0              45    Owner 1       Vet 29                           900  \n",
      "1              26    Owner 2       Vet 33                           520  \n",
      "2              67    Owner 3        Vet 4                          1340  \n",
      "3               0    Owner 4       Vet 37                             0  \n",
      "4              62    Owner 5        Vet 8                          1240  \n"
     ]
    }
   ],
   "source": [
    "import pandas as pd\n",
    "import random\n",
    "from geopy.distance import great_circle\n",
    "\n",
    "# Generate random data for 150 rural properties\n",
    "property_data = {\n",
    "    \"Property Name\": [\"Property \" + str(i) for i in range(1, 151)],\n",
    "    \"Latitude\": [random.uniform(-33.75, 5.25) for _ in range(150)],  # Rough latitude range of Brazil\n",
    "    \"Longitude\": [random.uniform(-73.98, -34.80) for _ in range(150)],  # Rough longitude range of Brazil\n",
    "    \"Area (hectares)\": [random.uniform(10, 1000) for _ in range(150)],\n",
    "    \"Solar Energy\": [random.choice([\"Yes\", \"No\"]) for _ in range(150)],\n",
    "    \"Number of Cows\": [random.randint(0, 100) for _ in range(150)],\n",
    "}\n",
    "\n",
    "# Generate random data for property owners\n",
    "owner_data = {\n",
    "    \"Owner Name\": [\"Owner \" + str(i) for i in range(1, 151)],\n",
    "}\n",
    "\n",
    "# Create the DataFrame for property owners\n",
    "owner_df = pd.DataFrame(owner_data)\n",
    "\n",
    "# Generate random data for 50 veterinarians\n",
    "veterinarian_data = {\n",
    "    \"Veterinarian Name\": [\"Vet \" + str(i) for i in range(1, 51)],\n",
    "    \"Latitude\": [random.uniform(-33.75, 5.25) for _ in range(50)],\n",
    "    \"Longitude\": [random.uniform(-73.98, -34.80) for _ in range(50)],\n",
    "}\n",
    "\n",
    "# Create the DataFrame for veterinarians\n",
    "vet_df = pd.DataFrame(veterinarian_data)\n",
    "\n",
    "# Function to find the nearest veterinarian to a property\n",
    "def find_nearest_vet(property_row):\n",
    "    property_location = (property_row[\"Latitude\"], property_row[\"Longitude\"])\n",
    "    vet_df[\"Distance\"] = vet_df.apply(lambda row: great_circle(property_location, (row[\"Latitude\"], row[\"Longitude\"])).km, axis=1)\n",
    "    nearest_vet = vet_df.loc[vet_df[\"Distance\"].idxmin()]\n",
    "    return nearest_vet[\"Veterinarian Name\"]\n",
    "\n",
    "# Add nearest veterinarian names to the property DataFrame\n",
    "property_df = pd.DataFrame(property_data)\n",
    "property_df[\"Owner Name\"] = owner_df[\"Owner Name\"]\n",
    "property_df[\"Veterinarian\"] = property_df.apply(find_nearest_vet, axis=1)\n",
    "\n",
    "# Calculate milk collection\n",
    "property_df[\"Milk Collection (liters/day)\"] = property_df[\"Number of Cows\"] * 20\n",
    "\n",
    "# Display the first few rows of the DataFrame\n",
    "print(property_df.head())"
   ]
  }
 ],
 "metadata": {
  "kernelspec": {
   "display_name": "Python 3 (ipykernel)",
   "language": "python",
   "name": "python3"
  },
  "language_info": {
   "codemirror_mode": {
    "name": "ipython",
    "version": 3
   },
   "file_extension": ".py",
   "mimetype": "text/x-python",
   "name": "python",
   "nbconvert_exporter": "python",
   "pygments_lexer": "ipython3",
   "version": "3.10.8"
  }
 },
 "nbformat": 4,
 "nbformat_minor": 5
}
